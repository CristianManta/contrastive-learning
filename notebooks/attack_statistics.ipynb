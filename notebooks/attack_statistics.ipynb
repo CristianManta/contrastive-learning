{
 "cells": [
  {
   "cell_type": "code",
   "execution_count": 64,
   "metadata": {
    "collapsed": true
   },
   "outputs": [],
   "source": [
    "import numpy as np\n",
    "from numpy import mean, median\n",
    "import pandas as pd"
   ]
  },
  {
   "cell_type": "code",
   "execution_count": 65,
   "outputs": [],
   "source": [
    "# PGD attack (lambda = 0.1)\n",
    "\n",
    "# load in the .npz files containing the adversarial distances\n",
    "data1 = np.load('../cifar10/pgd_attack_baseline/attack_unregularized/pgd_dists.npz')['l2']\n",
    "data2 = np.load('../cifar10/pgd_attack_baseline/attack_lambda_01/pgd_dists.npz')['l2']\n",
    "data3 = np.load('../cifar10/pgd_attack/attack_unregularized/pgd_dists.npz')['l2']\n",
    "data4 = np.load('../cifar10/pgd_attack/attack_lambda_01/pgd_dists.npz')['l2']"
   ],
   "metadata": {
    "collapsed": false,
    "pycharm": {
     "name": "#%%\n"
    }
   }
  },
  {
   "cell_type": "code",
   "execution_count": 66,
   "outputs": [],
   "source": [
    "# only keep strictly positive distances (ignore abstained attacks or images already misclassified)\n",
    "data1 = data1[data1>0]\n",
    "data2 = data2[data2>0]\n",
    "data3 = data3[data3>0]\n",
    "data4 = data4[data4>0]"
   ],
   "metadata": {
    "collapsed": false,
    "pycharm": {
     "name": "#%%\n"
    }
   }
  },
  {
   "cell_type": "code",
   "execution_count": 67,
   "outputs": [
    {
     "data": {
      "text/plain": "                           Median      Mean  Max\nBaseline                 0.174965  0.198833  0.5\nRegularized Baseline     0.205408  0.224745  0.5\nContrastive              0.460889  0.362951  0.5\nRegularized Contrastive  0.500000  0.409977  0.5",
      "text/html": "<div>\n<style scoped>\n    .dataframe tbody tr th:only-of-type {\n        vertical-align: middle;\n    }\n\n    .dataframe tbody tr th {\n        vertical-align: top;\n    }\n\n    .dataframe thead th {\n        text-align: right;\n    }\n</style>\n<table border=\"1\" class=\"dataframe\">\n  <thead>\n    <tr style=\"text-align: right;\">\n      <th></th>\n      <th>Median</th>\n      <th>Mean</th>\n      <th>Max</th>\n    </tr>\n  </thead>\n  <tbody>\n    <tr>\n      <th>Baseline</th>\n      <td>0.174965</td>\n      <td>0.198833</td>\n      <td>0.5</td>\n    </tr>\n    <tr>\n      <th>Regularized Baseline</th>\n      <td>0.205408</td>\n      <td>0.224745</td>\n      <td>0.5</td>\n    </tr>\n    <tr>\n      <th>Contrastive</th>\n      <td>0.460889</td>\n      <td>0.362951</td>\n      <td>0.5</td>\n    </tr>\n    <tr>\n      <th>Regularized Contrastive</th>\n      <td>0.500000</td>\n      <td>0.409977</td>\n      <td>0.5</td>\n    </tr>\n  </tbody>\n</table>\n</div>"
     },
     "execution_count": 67,
     "metadata": {},
     "output_type": "execute_result"
    }
   ],
   "source": [
    "# visualizing the data\n",
    "ix = ['Baseline', 'Regularized Baseline', 'Contrastive', 'Regularized Contrastive']\n",
    "summary = {'Median': [median(data1), median(data2), median(data3), median(data4)],\n",
    "           'Mean': [mean(data1), mean(data2), mean(data3), mean(data4)],\n",
    "           'Max': [max(data1), max(data2), max(data3), max(data4)]}\n",
    "df = pd.DataFrame(data=summary, index=ix)\n",
    "df"
   ],
   "metadata": {
    "collapsed": false,
    "pycharm": {
     "name": "#%%\n"
    }
   }
  },
  {
   "cell_type": "code",
   "execution_count": 68,
   "outputs": [],
   "source": [
    "# PLB attack (lambda = 0.1)\n",
    "\n",
    "data1 = np.load('../cifar10/plb_attack_baseline/attack_unregularized/proxlogbarrier-L2.npz')['l2']\n",
    "data2 = np.load('../cifar10/plb_attack_baseline/attack_lambda_01/proxlogbarrier-L2.npz')['l2']\n",
    "data3 = np.load('../cifar10/plb_attack/attack_unregularized/proxlogbarrier-L2.npz')['l2']\n",
    "data4 = np.load('../cifar10/plb_attack/attack_lambda_01/proxlogbarrier-L2.npz')['l2']"
   ],
   "metadata": {
    "collapsed": false,
    "pycharm": {
     "name": "#%%\n"
    }
   }
  },
  {
   "cell_type": "code",
   "execution_count": 69,
   "outputs": [],
   "source": [
    "data1 = data1[data1>0]\n",
    "data2 = data2[data2>0]\n",
    "data3 = data3[data3>0]\n",
    "data4 = data4[data4>0]"
   ],
   "metadata": {
    "collapsed": false,
    "pycharm": {
     "name": "#%%\n"
    }
   }
  },
  {
   "cell_type": "code",
   "execution_count": 70,
   "outputs": [
    {
     "data": {
      "text/plain": "                           Median      Mean       Max\nBaseline                 0.132234  0.146439  0.719822\nRegularized Baseline     0.141240  0.154274  0.670295\nContrastive              0.203300  0.231604  1.280107\nRegularized Contrastive  0.227001  0.265340  0.935601",
      "text/html": "<div>\n<style scoped>\n    .dataframe tbody tr th:only-of-type {\n        vertical-align: middle;\n    }\n\n    .dataframe tbody tr th {\n        vertical-align: top;\n    }\n\n    .dataframe thead th {\n        text-align: right;\n    }\n</style>\n<table border=\"1\" class=\"dataframe\">\n  <thead>\n    <tr style=\"text-align: right;\">\n      <th></th>\n      <th>Median</th>\n      <th>Mean</th>\n      <th>Max</th>\n    </tr>\n  </thead>\n  <tbody>\n    <tr>\n      <th>Baseline</th>\n      <td>0.132234</td>\n      <td>0.146439</td>\n      <td>0.719822</td>\n    </tr>\n    <tr>\n      <th>Regularized Baseline</th>\n      <td>0.141240</td>\n      <td>0.154274</td>\n      <td>0.670295</td>\n    </tr>\n    <tr>\n      <th>Contrastive</th>\n      <td>0.203300</td>\n      <td>0.231604</td>\n      <td>1.280107</td>\n    </tr>\n    <tr>\n      <th>Regularized Contrastive</th>\n      <td>0.227001</td>\n      <td>0.265340</td>\n      <td>0.935601</td>\n    </tr>\n  </tbody>\n</table>\n</div>"
     },
     "execution_count": 70,
     "metadata": {},
     "output_type": "execute_result"
    }
   ],
   "source": [
    "ix = ['Baseline', 'Regularized Baseline', 'Contrastive', 'Regularized Contrastive']\n",
    "summary = {'Median': [median(data1), median(data2), median(data3), median(data4)],\n",
    "           'Mean': [mean(data1), mean(data2), mean(data3), mean(data4)],\n",
    "           'Max': [max(data1), max(data2), max(data3), max(data4)]}\n",
    "df = pd.DataFrame(data=summary, index=ix)\n",
    "df"
   ],
   "metadata": {
    "collapsed": false,
    "pycharm": {
     "name": "#%%\n"
    }
   }
  },
  {
   "cell_type": "code",
   "execution_count": 71,
   "outputs": [],
   "source": [
    "# PGD attack (lambda = 1)\n",
    "\n",
    "data1 = np.load('../cifar10/pgd_attack_baseline/attack_unregularized/pgd_dists.npz')['l2']\n",
    "data2 = np.load('../cifar10/pgd_attack_baseline/attack_lambda_1/pgd_dists.npz')['l2']\n",
    "data3 = np.load('../cifar10/pgd_attack/attack_unregularized/pgd_dists.npz')['l2']\n",
    "data4 = np.load('../cifar10/pgd_attack/attack_lambda_1/pgd_dists.npz')['l2']"
   ],
   "metadata": {
    "collapsed": false,
    "pycharm": {
     "name": "#%%\n"
    }
   }
  },
  {
   "cell_type": "code",
   "execution_count": 72,
   "outputs": [],
   "source": [
    "data1 = data1[data1>0]\n",
    "data2 = data2[data2>0]\n",
    "data3 = data3[data3>0]\n",
    "data4 = data4[data4>0]"
   ],
   "metadata": {
    "collapsed": false,
    "pycharm": {
     "name": "#%%\n"
    }
   }
  },
  {
   "cell_type": "code",
   "execution_count": 73,
   "outputs": [
    {
     "data": {
      "text/plain": "                           Median      Mean  Max\nBaseline                 0.174965  0.198833  0.5\nRegularized Baseline     0.224510  0.244330  0.5\nContrastive              0.460889  0.362951  0.5\nRegularized Contrastive  0.500000  0.445175  0.5",
      "text/html": "<div>\n<style scoped>\n    .dataframe tbody tr th:only-of-type {\n        vertical-align: middle;\n    }\n\n    .dataframe tbody tr th {\n        vertical-align: top;\n    }\n\n    .dataframe thead th {\n        text-align: right;\n    }\n</style>\n<table border=\"1\" class=\"dataframe\">\n  <thead>\n    <tr style=\"text-align: right;\">\n      <th></th>\n      <th>Median</th>\n      <th>Mean</th>\n      <th>Max</th>\n    </tr>\n  </thead>\n  <tbody>\n    <tr>\n      <th>Baseline</th>\n      <td>0.174965</td>\n      <td>0.198833</td>\n      <td>0.5</td>\n    </tr>\n    <tr>\n      <th>Regularized Baseline</th>\n      <td>0.224510</td>\n      <td>0.244330</td>\n      <td>0.5</td>\n    </tr>\n    <tr>\n      <th>Contrastive</th>\n      <td>0.460889</td>\n      <td>0.362951</td>\n      <td>0.5</td>\n    </tr>\n    <tr>\n      <th>Regularized Contrastive</th>\n      <td>0.500000</td>\n      <td>0.445175</td>\n      <td>0.5</td>\n    </tr>\n  </tbody>\n</table>\n</div>"
     },
     "execution_count": 73,
     "metadata": {},
     "output_type": "execute_result"
    }
   ],
   "source": [
    "ix = ['Baseline', 'Regularized Baseline', 'Contrastive', 'Regularized Contrastive']\n",
    "summary = {'Median': [median(data1), median(data2), median(data3), median(data4)],\n",
    "           'Mean': [mean(data1), mean(data2), mean(data3), mean(data4)],\n",
    "           'Max': [max(data1), max(data2), max(data3), max(data4)]}\n",
    "df = pd.DataFrame(data=summary, index=ix)\n",
    "df"
   ],
   "metadata": {
    "collapsed": false,
    "pycharm": {
     "name": "#%%\n"
    }
   }
  },
  {
   "cell_type": "code",
   "execution_count": 74,
   "outputs": [],
   "source": [
    "# PLB attack (lambda = 1)\n",
    "\n",
    "data1 = np.load('../cifar10/plb_attack_baseline/attack_unregularized/proxlogbarrier-L2.npz')['l2']\n",
    "data2 = np.load('../cifar10/plb_attack_baseline/attack_lambda_1/proxlogbarrier-L2.npz')['l2']\n",
    "data3 = np.load('../cifar10/plb_attack/attack_unregularized/proxlogbarrier-L2.npz')['l2']\n",
    "data4 = np.load('../cifar10/plb_attack/attack_lambda_1/proxlogbarrier-L2.npz')['l2']"
   ],
   "metadata": {
    "collapsed": false,
    "pycharm": {
     "name": "#%%\n"
    }
   }
  },
  {
   "cell_type": "code",
   "execution_count": 75,
   "outputs": [],
   "source": [
    "data1 = data1[data1>0]\n",
    "data2 = data2[data2>0]\n",
    "data3 = data3[data3>0]\n",
    "data4 = data4[data4>0]"
   ],
   "metadata": {
    "collapsed": false,
    "pycharm": {
     "name": "#%%\n"
    }
   }
  },
  {
   "cell_type": "code",
   "execution_count": 76,
   "outputs": [
    {
     "data": {
      "text/plain": "                           Median      Mean       Max\nBaseline                 0.132234  0.146439  0.719822\nRegularized Baseline     0.168643  0.181745  0.732364\nContrastive              0.203300  0.231604  1.280107\nRegularized Contrastive  0.275322  0.314635  1.387043",
      "text/html": "<div>\n<style scoped>\n    .dataframe tbody tr th:only-of-type {\n        vertical-align: middle;\n    }\n\n    .dataframe tbody tr th {\n        vertical-align: top;\n    }\n\n    .dataframe thead th {\n        text-align: right;\n    }\n</style>\n<table border=\"1\" class=\"dataframe\">\n  <thead>\n    <tr style=\"text-align: right;\">\n      <th></th>\n      <th>Median</th>\n      <th>Mean</th>\n      <th>Max</th>\n    </tr>\n  </thead>\n  <tbody>\n    <tr>\n      <th>Baseline</th>\n      <td>0.132234</td>\n      <td>0.146439</td>\n      <td>0.719822</td>\n    </tr>\n    <tr>\n      <th>Regularized Baseline</th>\n      <td>0.168643</td>\n      <td>0.181745</td>\n      <td>0.732364</td>\n    </tr>\n    <tr>\n      <th>Contrastive</th>\n      <td>0.203300</td>\n      <td>0.231604</td>\n      <td>1.280107</td>\n    </tr>\n    <tr>\n      <th>Regularized Contrastive</th>\n      <td>0.275322</td>\n      <td>0.314635</td>\n      <td>1.387043</td>\n    </tr>\n  </tbody>\n</table>\n</div>"
     },
     "execution_count": 76,
     "metadata": {},
     "output_type": "execute_result"
    }
   ],
   "source": [
    "ix = ['Baseline', 'Regularized Baseline', 'Contrastive', 'Regularized Contrastive']\n",
    "summary = {'Median': [median(data1), median(data2), median(data3), median(data4)],\n",
    "           'Mean': [mean(data1), mean(data2), mean(data3), mean(data4)],\n",
    "           'Max': [max(data1), max(data2), max(data3), max(data4)]}\n",
    "df = pd.DataFrame(data=summary, index=ix)\n",
    "df"
   ],
   "metadata": {
    "collapsed": false,
    "pycharm": {
     "name": "#%%\n"
    }
   }
  },
  {
   "cell_type": "code",
   "execution_count": 77,
   "outputs": [],
   "source": [
    "# PGD attack (lambda = 10)\n",
    "\n",
    "data1 = np.load('../cifar10/pgd_attack_baseline/attack_unregularized/pgd_dists.npz')['l2']\n",
    "data2 = np.load('../cifar10/pgd_attack_baseline/attack_lambda_10/pgd_dists.npz')['l2']\n",
    "data3 = np.load('../cifar10/pgd_attack/attack_unregularized/pgd_dists.npz')['l2']\n",
    "data4 = np.load('../cifar10/pgd_attack/attack_lambda_10/pgd_dists.npz')['l2']"
   ],
   "metadata": {
    "collapsed": false,
    "pycharm": {
     "name": "#%%\n"
    }
   }
  },
  {
   "cell_type": "code",
   "execution_count": 78,
   "outputs": [],
   "source": [
    "data1 = data1[data1>0]\n",
    "data2 = data2[data2>0]\n",
    "data3 = data3[data3>0]\n",
    "data4 = data4[data4>0]"
   ],
   "metadata": {
    "collapsed": false,
    "pycharm": {
     "name": "#%%\n"
    }
   }
  },
  {
   "cell_type": "code",
   "execution_count": 79,
   "outputs": [
    {
     "data": {
      "text/plain": "                           Median      Mean  Max\nBaseline                 0.174965  0.198833  0.5\nRegularized Baseline     0.214627  0.244769  0.5\nContrastive              0.460889  0.362951  0.5\nRegularized Contrastive  0.500000  0.491657  0.5",
      "text/html": "<div>\n<style scoped>\n    .dataframe tbody tr th:only-of-type {\n        vertical-align: middle;\n    }\n\n    .dataframe tbody tr th {\n        vertical-align: top;\n    }\n\n    .dataframe thead th {\n        text-align: right;\n    }\n</style>\n<table border=\"1\" class=\"dataframe\">\n  <thead>\n    <tr style=\"text-align: right;\">\n      <th></th>\n      <th>Median</th>\n      <th>Mean</th>\n      <th>Max</th>\n    </tr>\n  </thead>\n  <tbody>\n    <tr>\n      <th>Baseline</th>\n      <td>0.174965</td>\n      <td>0.198833</td>\n      <td>0.5</td>\n    </tr>\n    <tr>\n      <th>Regularized Baseline</th>\n      <td>0.214627</td>\n      <td>0.244769</td>\n      <td>0.5</td>\n    </tr>\n    <tr>\n      <th>Contrastive</th>\n      <td>0.460889</td>\n      <td>0.362951</td>\n      <td>0.5</td>\n    </tr>\n    <tr>\n      <th>Regularized Contrastive</th>\n      <td>0.500000</td>\n      <td>0.491657</td>\n      <td>0.5</td>\n    </tr>\n  </tbody>\n</table>\n</div>"
     },
     "execution_count": 79,
     "metadata": {},
     "output_type": "execute_result"
    }
   ],
   "source": [
    "ix = ['Baseline', 'Regularized Baseline', 'Contrastive', 'Regularized Contrastive']\n",
    "summary = {'Median': [median(data1), median(data2), median(data3), median(data4)],\n",
    "           'Mean': [mean(data1), mean(data2), mean(data3), mean(data4)],\n",
    "           'Max': [max(data1), max(data2), max(data3), max(data4)]}\n",
    "df = pd.DataFrame(data=summary, index=ix)\n",
    "df"
   ],
   "metadata": {
    "collapsed": false,
    "pycharm": {
     "name": "#%%\n"
    }
   }
  },
  {
   "cell_type": "code",
   "execution_count": 80,
   "outputs": [],
   "source": [
    "# PLB attack (lambda = 10)\n",
    "\n",
    "data1 = np.load('../cifar10/plb_attack_baseline/attack_unregularized/proxlogbarrier-L2.npz')['l2']\n",
    "data2 = np.load('../cifar10/plb_attack_baseline/attack_lambda_10/proxlogbarrier-L2.npz')['l2']\n",
    "data3 = np.load('../cifar10/plb_attack/attack_unregularized/proxlogbarrier-L2.npz')['l2']\n",
    "data4 = np.load('../cifar10/plb_attack/attack_lambda_10/proxlogbarrier-L2.npz')['l2']"
   ],
   "metadata": {
    "collapsed": false,
    "pycharm": {
     "name": "#%%\n"
    }
   }
  },
  {
   "cell_type": "code",
   "execution_count": 81,
   "outputs": [],
   "source": [
    "data1 = data1[data1>0]\n",
    "data2 = data2[data2>0]\n",
    "data3 = data3[data3>0]\n",
    "data4 = data4[data4>0]"
   ],
   "metadata": {
    "collapsed": false,
    "pycharm": {
     "name": "#%%\n"
    }
   }
  },
  {
   "cell_type": "code",
   "execution_count": 82,
   "outputs": [
    {
     "data": {
      "text/plain": "                           Median      Mean       Max\nBaseline                 0.132234  0.146439  0.719822\nRegularized Baseline     0.242510  0.261532  1.088666\nContrastive              0.203300  0.231604  1.280107\nRegularized Contrastive  0.515094  0.647353  3.019160",
      "text/html": "<div>\n<style scoped>\n    .dataframe tbody tr th:only-of-type {\n        vertical-align: middle;\n    }\n\n    .dataframe tbody tr th {\n        vertical-align: top;\n    }\n\n    .dataframe thead th {\n        text-align: right;\n    }\n</style>\n<table border=\"1\" class=\"dataframe\">\n  <thead>\n    <tr style=\"text-align: right;\">\n      <th></th>\n      <th>Median</th>\n      <th>Mean</th>\n      <th>Max</th>\n    </tr>\n  </thead>\n  <tbody>\n    <tr>\n      <th>Baseline</th>\n      <td>0.132234</td>\n      <td>0.146439</td>\n      <td>0.719822</td>\n    </tr>\n    <tr>\n      <th>Regularized Baseline</th>\n      <td>0.242510</td>\n      <td>0.261532</td>\n      <td>1.088666</td>\n    </tr>\n    <tr>\n      <th>Contrastive</th>\n      <td>0.203300</td>\n      <td>0.231604</td>\n      <td>1.280107</td>\n    </tr>\n    <tr>\n      <th>Regularized Contrastive</th>\n      <td>0.515094</td>\n      <td>0.647353</td>\n      <td>3.019160</td>\n    </tr>\n  </tbody>\n</table>\n</div>"
     },
     "execution_count": 82,
     "metadata": {},
     "output_type": "execute_result"
    }
   ],
   "source": [
    "ix = ['Baseline', 'Regularized Baseline', 'Contrastive', 'Regularized Contrastive']\n",
    "summary = {'Median': [median(data1), median(data2), median(data3), median(data4)],\n",
    "           'Mean': [mean(data1), mean(data2), mean(data3), mean(data4)],\n",
    "           'Max': [max(data1), max(data2), max(data3), max(data4)]}\n",
    "df = pd.DataFrame(data=summary, index=ix)\n",
    "df\n"
   ],
   "metadata": {
    "collapsed": false,
    "pycharm": {
     "name": "#%%\n"
    }
   }
  }
 ],
 "metadata": {
  "kernelspec": {
   "display_name": "Python 3",
   "language": "python",
   "name": "python3"
  },
  "language_info": {
   "codemirror_mode": {
    "name": "ipython",
    "version": 2
   },
   "file_extension": ".py",
   "mimetype": "text/x-python",
   "name": "python",
   "nbconvert_exporter": "python",
   "pygments_lexer": "ipython2",
   "version": "2.7.6"
  }
 },
 "nbformat": 4,
 "nbformat_minor": 0
}